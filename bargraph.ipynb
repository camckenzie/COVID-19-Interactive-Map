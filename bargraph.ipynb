{
 "cells": [
  {
   "cell_type": "code",
   "execution_count": 34,
   "metadata": {},
   "outputs": [],
   "source": [
    "import pandas\n",
    "import matplotlib as mlp\n",
    "import matplotlib.pyplot as plt\n",
    "import numpy as np\n",
    "import os #operating system tools (check files)\n",
    "from bokeh.palettes import PuBu\n",
    "from bokeh.io import export_png, export_svgs, show, output_notebook\n",
    "from bokeh.models import ColumnDataSource, DataTable, TableColumn, ranges, LabelSet, Label\n",
    "from bokeh.plotting import figure"
   ]
  },
  {
   "cell_type": "code",
   "execution_count": 71,
   "metadata": {},
   "outputs": [],
   "source": [
    "os.chdir(r'C:\\College\\Spring 2021\\CS545\\COVID-19-Interactive-Map\\Docs\\Cases_PNGs')\n",
    "col_list = ['State/Territory',\n",
    "'Total Cases', 'Confirmed Cases', 'Cases in Last 7 Days',\n",
    "'Case Rate per 100000', 'Total Deaths'] #Limit data frame to specific columns needed\n",
    "\n",
    "df = pandas.read_csv('covid19_cases.csv', skiprows=3, usecols=col_list, index_col=0)\n",
    "\n",
    "dfdict = df.to_dict()\n",
    "keys = list(dfdict.keys())\n",
    "values = df.T.to_dict('list')\n",
    "values = values['New York']\n",
    "source = ColumnDataSource(dict(x=keys, y =values))\n",
    "p = figure(x_range=keys, title = 'Testing', toolbar_location=None, tools=\"\", plot_width=800)\n",
    "p.vbar(x=keys, top=values, width=0.9)\n",
    "p.xgrid.grid_line_color = None\n",
    "p.y_range.start = 0\n",
    "show(p)"
   ]
  },
  {
   "cell_type": "code",
   "execution_count": 72,
   "metadata": {},
   "outputs": [],
   "source": [
    "totalcase_citation = Label(x=0, y=-50, x_units='screen', y_units='screen',\n",
    "                 text='Total Cases: ', render_mode='css',\n",
    "                 border_line_alpha=1.0,\n",
    "                 background_fill_color='white', background_fill_alpha=1.0)\n",
    "confirmed_citation = Label(x=0, y=-70, x_units='screen', y_units='screen',\n",
    "                 text='Confirmed Cases: ', render_mode='css',\n",
    "                 border_line_alpha=1.0,\n",
    "                 background_fill_alpha=1.0)\n",
    "lastseven_citation = Label(x=0, y=-90, x_units='screen', y_units='screen',\n",
    "                 text='Cases in Last 7 Days: ', render_mode='css',\n",
    "                 border_line_alpha=1.0,\n",
    "                 background_fill_color='white', background_fill_alpha=1.0)\n",
    "rate_citation = Label(x=0, y=-110, x_units='screen', y_units='screen',\n",
    "                 text='Case Rate per 100000: ', render_mode='css',\n",
    "                 border_line_alpha=1.0,\n",
    "                 background_fill_color='white', background_fill_alpha=1.0)\n",
    "deaths_citation = Label(x=0, y=-130, x_units='screen', y_units='screen',\n",
    "                 text='Total Deaths: ', render_mode='css',\n",
    "                 border_line_alpha=1.0,\n",
    "                 background_fill_color='white', background_fill_alpha=1.0)\n",
    "\n",
    "p.add_layout(totalcase_citation)\n",
    "p.add_layout(confirmed_citation)\n",
    "p.add_layout(lastseven_citation)\n",
    "p.add_layout(rate_citation)\n",
    "p.add_layout(deaths_citation)\n",
    "\n",
    "show(p)"
   ]
  },
  {
   "cell_type": "code",
   "execution_count": 62,
   "metadata": {},
   "outputs": [
    {
     "data": {
      "text/plain": [
       "['Total Cases',\n",
       " 'Confirmed Cases',\n",
       " 'Cases in Last 7 Days',\n",
       " 'Case Rate per 100000',\n",
       " 'Total Deaths']"
      ]
     },
     "execution_count": 62,
     "metadata": {},
     "output_type": "execute_result"
    }
   ],
   "source": [
    "values = df.T.to_dict('list')\n",
    "keys"
   ]
  },
  {
   "cell_type": "code",
   "execution_count": null,
   "metadata": {},
   "outputs": [],
   "source": []
  }
 ],
 "metadata": {
  "kernelspec": {
   "display_name": "Python 3",
   "language": "python",
   "name": "python3"
  },
  "language_info": {
   "codemirror_mode": {
    "name": "ipython",
    "version": 3
   },
   "file_extension": ".py",
   "mimetype": "text/x-python",
   "name": "python",
   "nbconvert_exporter": "python",
   "pygments_lexer": "ipython3",
   "version": "3.8.5"
  }
 },
 "nbformat": 4,
 "nbformat_minor": 4
}
