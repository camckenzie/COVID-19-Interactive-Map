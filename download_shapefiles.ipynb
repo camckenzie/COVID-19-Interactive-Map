{
 "cells": [
  {
   "cell_type": "code",
   "execution_count": 15,
   "metadata": {},
   "outputs": [],
   "source": [
    "import pandas as pd             # data package\n",
    "import matplotlib.pyplot as plt # graphics \n",
    "import datetime as dt\n",
    "import numpy as np\n",
    "import requests, io             # internet and input tools  \n",
    "import zipfile as zf            # zip file tools \n",
    "import os                       # operating system tools (check files)"
   ]
  },
  {
   "cell_type": "markdown",
   "metadata": {},
   "source": [
    "###  Get US Lakes, Land and State, Shapefiles\n",
    "\n",
    "The following cells download the requisite shapefiles from the US census. \n",
    "They are unzipped in a folder called shapefiles and then Lake,land and state respt."
   ]
  },
  {
   "cell_type": "code",
   "execution_count": 16,
   "metadata": {},
   "outputs": [
    {
     "name": "stdout",
     "output_type": "stream",
     "text": [
      "\n",
      "**********************************************************************************\n",
      "Downloading State Shape files\n",
      "\n",
      "Done!\n"
     ]
    }
   ],
   "source": [
    "print(\"\")\n",
    "print(\"Downloading State Shape files\")\n",
    "print(\"\")\n",
    "import urllib.request \n",
    "cwd = os.getcwd()\n",
    "\n",
    "state_url = \"https://www2.census.gov/geo/tiger/TIGER2017/STATE/tl_2017_us_state.zip\"   \n",
    "\n",
    "remote = urllib.request.urlopen(state_url)  # read remote file\n",
    "state_shapefile = remote.read()  # read from remote file\n",
    "remote.close()  # close urllib request\n",
    "local = open('state_url.zip', 'wb')  # write binary to local file\n",
    "local.write(state_shapefile)\n",
    "from zipfile import ZipFile \n",
    "# specifying the zip file name \n",
    "file_name = \"state_url.zip\"\n",
    "# opening the zip file in READ mode \n",
    "with ZipFile(file_name, 'r') as zip: \n",
    "    # extracting all the files \n",
    "    zip.extractall(path = cwd + \"/shapefiles/state\")\n",
    "    print('Done!')\n",
    "local.close()  # close filer = requests.get(state_url ) "
   ]
  },
  {
   "cell_type": "code",
   "execution_count": 17,
   "metadata": {},
   "outputs": [
    {
     "name": "stdout",
     "output_type": "stream",
     "text": [
      "\n",
      "**********************************************************************************\n",
      "Downloading Lakes Shape files\n",
      "\n",
      "Done!\n"
     ]
    }
   ],
   "source": [
    "print(\"\")\n",
    "print(\"Downloading Lakes Shape files\")\n",
    "print(\"\")\n",
    "import urllib.request \n",
    "cwd = os.getcwd()\n",
    "\n",
    "lakes_url = \"http://www.naturalearthdata.com/http//www.naturalearthdata.com/download/10m/physical/ne_10m_lakes.zip\"   \n",
    "\n",
    "remote = urllib.request.urlopen(lakes_url)  # read remote file\n",
    "lake_shapefile = remote.read()  # read from remote file\n",
    "remote.close()  # close urllib request\n",
    "local = open('lakes_url.zip', 'wb')  # write binary to local file\n",
    "local.write(lake_shapefile)\n",
    "from zipfile import ZipFile \n",
    "# specifying the zip file name \n",
    "file_name = \"lakes_url.zip\"\n",
    "# opening the zip file in READ mode \n",
    "with ZipFile(file_name, 'r') as zip: \n",
    "    # extracting all the files \n",
    "    zip.extractall(path = cwd + \"/shapefiles/lake\")\n",
    "    print('Done!')\n",
    "local.close()  # close filer = requests.get(lakes_url ) "
   ]
  },
  {
   "cell_type": "code",
   "execution_count": 18,
   "metadata": {},
   "outputs": [
    {
     "name": "stdout",
     "output_type": "stream",
     "text": [
      "\n",
      "**********************************************************************************\n",
      "Downloading Land Shape files\n",
      "\n",
      "Done!\n"
     ]
    }
   ],
   "source": [
    "print(\"\")\n",
    "print(\"Downloading Land Shape files\")\n",
    "print(\"\")\n",
    "\n",
    "cwd = os.getcwd()\n",
    "\n",
    "land_url = \"https://www.naturalearthdata.com/http//www.naturalearthdata.com/download/50m/physical/ne_50m_land.zip\"\n",
    "r = requests.get(land_url ) \n",
    "remote = urllib.request.urlopen(land_url)  # read remote file\n",
    "land_shapefile = remote.read()  # read from remote file\n",
    "remote.close()  # close urllib request\n",
    "local = open('land_url.zip', 'wb')  # write binary to local file\n",
    "local.write(land_shapefile)\n",
    "from zipfile import ZipFile \n",
    "# specifying the zip file name \n",
    "file_name = \"land_url.zip\"\n",
    "# opening the zip file in READ mode \n",
    "with ZipFile(file_name, 'r') as zip: \n",
    "    # extracting all the files \n",
    "    zip.extractall(path = cwd + \"/shapefiles/land\")\n",
    "    print('Done!')\n",
    "local.close()  # close filer = requests.get(lakes_url ) "
   ]
  }
 ],
 "metadata": {
  "kernelspec": {
   "display_name": "Python 3",
   "language": "python",
   "name": "python3"
  },
  "language_info": {
   "codemirror_mode": {
    "name": "ipython",
    "version": 3
   },
   "file_extension": ".py",
   "mimetype": "text/x-python",
   "name": "python",
   "nbconvert_exporter": "python",
   "pygments_lexer": "ipython3",
   "version": "3.7.6"
  }
 },
 "nbformat": 4,
 "nbformat_minor": 4
}
