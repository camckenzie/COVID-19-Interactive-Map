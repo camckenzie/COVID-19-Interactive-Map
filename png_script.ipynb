{
 "cells": [
  {
   "cell_type": "code",
   "execution_count": 1,
   "metadata": {},
   "outputs": [],
   "source": [
    "import pandas\n",
    "import numpy as np\n",
    "import os #operating system tools (check files)\n",
    "from bokeh.io import export_png, export_svgs, show\n",
    "from bokeh.models import ColumnDataSource, DataTable, TableColumn"
   ]
  },
  {
   "cell_type": "code",
   "execution_count": 2,
   "metadata": {},
   "outputs": [],
   "source": [
    "class PNGTables:\n",
    "\n",
    "\n",
    "    \"\"\"Parses through CSV files for COVID-19 data and prints data\n",
    "    into separate PNG files by state\"\"\"\n",
    "\n",
    "\n",
    "    def __init__(self, vaccine_path: str, cases_path: str) -> None:\n",
    "\n",
    "        \"\"\"Initiailize functions\"\"\"\n",
    "\n",
    "        self.vaccine_path = vaccine_path\n",
    "        self.cases_path = cases_path\n",
    "\n",
    "        #self.export_vaccine_tables()\n",
    "        #self.export_cases_tables()\n",
    "\n",
    "    def export_vaccine_tables(self):\n",
    "\n",
    "        \"\"\"Exports vaccine data in PNG files\"\"\"\n",
    "\n",
    "        os.chdir(self.vaccine_path)\n",
    "\n",
    "        col_list = [' State/Territory/Federal Entity ',\n",
    "        ' Total Doses Delivered ', ' Doses Delivered per 100K ',\n",
    "        ' Total Doses Administered ', ' Doses Administered per 100k '] #Limit data frame to specific columns needed\n",
    "\n",
    "        df = pandas.read_csv('covid19_vaccinations.csv', skiprows=3, usecols=col_list)\n",
    "\n",
    "        columns = [TableColumn(field=column, title=column) for column in df.columns] #bokeh columns\n",
    "        source = ColumnDataSource(df)\n",
    "\n",
    "        states = source.data[' State/Territory/Federal Entity '] #Create a list of states to parse through\n",
    "\n",
    "        #Below exports data table by State\n",
    "        for state in states:\n",
    "            state = state.strip()\n",
    "            source = ColumnDataSource(df.loc[df[' State/Territory/Federal Entity '] == f' {state} '])\n",
    "            data_table = DataTable(columns=columns, source=source, index_position=None, width=1000)\n",
    "            export_png(data_table, filename= f'{state}_Vaccinations.png')\n",
    "\n",
    "    \n",
    "    def export_cases_tables(self):\n",
    "\n",
    "        \"\"\"Exports case and death data in PNG files\"\"\"\n",
    "\n",
    "        os.chdir(self.cases_path)\n",
    "\n",
    "        col_list = [' State/Territory ',\n",
    "        ' Total Cases ', ' Confirmed Cases ', ' Cases in Last 7 Days ',\n",
    "        ' Case Rate per 100000 ', ' Total Deaths '] #Limit data frame to specific columns needed\n",
    "\n",
    "        df = pandas.read_csv('covid19_cases.csv', skiprows=3, usecols=col_list)\n",
    "\n",
    "        columns = [TableColumn(field=column, title=column) for column in df.columns] #bokeh columns\n",
    "        source = ColumnDataSource(df)\n",
    "\n",
    "        states = source.data[' State/Territory '] #Create a list of states to parse through\n",
    "\n",
    "        #Below exports data table by State\n",
    "        for state in states:\n",
    "            state = state.strip()\n",
    "            source = ColumnDataSource(df.loc[df[' State/Territory '] == f' {state} '])\n",
    "            data_table = DataTable(columns=columns, source=source, index_position=None, width=1000)\n",
    "            export_png(data_table, filename= f'{state}_Cases.png')"
   ]
  },
  {
   "cell_type": "code",
   "execution_count": 9,
   "metadata": {},
   "outputs": [],
   "source": [
    "vaccine_path = r'C:\\Users\\Chris\\Desktop\\Project\\Vaccinations_PNGs'"
   ]
  },
  {
   "cell_type": "code",
   "execution_count": 10,
   "metadata": {},
   "outputs": [],
   "source": [
    "export_path = r'C:\\Users\\Chris\\Desktop\\Project\\Cases_PNGs'"
   ]
  },
  {
   "cell_type": "code",
   "execution_count": 11,
   "metadata": {},
   "outputs": [],
   "source": [
    "test = PNGTables(vaccine_path, export_path)"
   ]
  },
  {
   "cell_type": "code",
   "execution_count": null,
   "metadata": {},
   "outputs": [],
   "source": []
  }
 ],
 "metadata": {
  "kernelspec": {
   "display_name": "Python 3",
   "language": "python",
   "name": "python3"
  },
  "language_info": {
   "codemirror_mode": {
    "name": "ipython",
    "version": 3
   },
   "file_extension": ".py",
   "mimetype": "text/x-python",
   "name": "python",
   "nbconvert_exporter": "python",
   "pygments_lexer": "ipython3",
   "version": "3.8.5"
  }
 },
 "nbformat": 4,
 "nbformat_minor": 4
}
