{
 "cells": [
  {
   "cell_type": "code",
   "execution_count": 8,
   "metadata": {},
   "outputs": [],
   "source": [
    "import pandas\n",
    "import os #operating system tools (check files)\n",
    "from bokeh.palettes import PuBu\n",
    "from bokeh.io import export_png, export_svgs, show, output_notebook\n",
    "from bokeh.models import ColumnDataSource, DataTable, TableColumn, ranges, LabelSet, Label, BasicTickFormatter\n",
    "from bokeh.plotting import figure"
   ]
  },
  {
   "cell_type": "code",
   "execution_count": 9,
   "metadata": {},
   "outputs": [],
   "source": [
    "class PNGTables:\n",
    "\n",
    "\n",
    "    \"\"\"Parses through CSV files for COVID-19 data and prints data\n",
    "    into separate PNG files by state\"\"\"\n",
    "\n",
    "\n",
    "    def __init__(self, vaccine_path: str, cases_path: str) -> None:\n",
    "\n",
    "        \"\"\"Initialize functions\"\"\"\n",
    "\n",
    "        self.vaccine_path = vaccine_path\n",
    "        self.cases_path = cases_path\n",
    "\n",
    "    def export_vaccine_graphs(self):\n",
    "\n",
    "        \"\"\"Exports vaccine data in PNG files\"\"\"\n",
    "\n",
    "        os.chdir(self.vaccine_path)\n",
    "\n",
    "        col_list = ['State/Territory/Federal Entity',\n",
    "        'Total Doses Delivered', 'Doses Delivered per 100K',\n",
    "        'Total Doses Administered by State where Administered',\n",
    "        'Doses Administered per 100k by State where Administered'] #Limit data frame to specific columns needed\n",
    "        \n",
    "        #MANUALLY REMOVED N/As with 0 SO I CAN RUN\n",
    "        df = pandas.read_csv(\"https://raw.githubusercontent.com/camckenzie/COVID-19-Interactive-Map/main/covid19_vaccinations.csv\", index_col=0, skiprows=2, usecols=col_list)\n",
    "\n",
    "        df.rename({\"New York State\" : \"New York\"}, inplace=True)\n",
    "\n",
    "        dfdict = df.to_dict()\n",
    "        keys = ['Total Doses Delivered', 'Doses Delivered per 100K',\n",
    "               'Total Doses Administered', 'Doses Administered per 100K']#col_list needed to be shortened\n",
    "        values = df.T.to_dict('list')#State: col_list values\n",
    "\n",
    "        for state in values.keys():\n",
    "            #Setting up the bar graph\n",
    "            vac_bar = figure(x_range=keys, title=state, toolbar_location=None, tools=\"\", plot_width=800)\n",
    "            vac_bar.vbar(x=keys, top=values[state], width=0.9)\n",
    "            vac_bar.xgrid.grid_line_color = None\n",
    "            vac_bar.y_range.start = 0\n",
    "            vac_bar.yaxis.formatter = BasicTickFormatter(use_scientific=False)\n",
    "\n",
    "            #Setting up the annoations\n",
    "\n",
    "            delivered_label = Label(x=450, y=480, x_units='screen', y_units='screen',\n",
    "                             text=f'Total Doses Delivered: {int(values[state][0])}', render_mode='css',\n",
    "                             border_line_alpha=1.0,\n",
    "                             background_fill_color='white', background_fill_alpha=1.0)\n",
    "            del_per_label = Label(x=450, y=460, x_units='screen', y_units='screen',\n",
    "                             text=f'Doses Delivered per 100K: {int(values[state][1])}', render_mode='css',\n",
    "                             border_line_alpha=1.0,\n",
    "                             background_fill_color='white', background_fill_alpha=1.0)\n",
    "            administered_label = Label(x=450, y=440, x_units='screen', y_units='screen',\n",
    "                             text=f'Total Doses Administered: {int(values[state][2])}', render_mode='css',\n",
    "                             border_line_alpha=1.0,\n",
    "                             background_fill_color='white', background_fill_alpha=1.0)\n",
    "            adm_per_label = Label(x=450, y=420, x_units='screen', y_units='screen',\n",
    "                             text=f'Doses Administered per 100K: {int(values[state][3])}', render_mode='css',\n",
    "                             border_line_alpha=1.0,\n",
    "                             background_fill_color='white', background_fill_alpha=1.0)\n",
    "\n",
    "            vac_bar.add_layout(delivered_label)\n",
    "            vac_bar.add_layout(del_per_label)\n",
    "            vac_bar.add_layout(administered_label)\n",
    "            vac_bar.add_layout(adm_per_label)\n",
    "\n",
    "            #The export\n",
    "            export_png(vac_bar, filename=f'{state}_Vaccinations.png')\n",
    "\n",
    "    \n",
    "    def export_cases_graphs(self):\n",
    "\n",
    "        \"\"\"Exports case and death data in PNG files\"\"\"\n",
    "\n",
    "        os.chdir(self.cases_path)\n",
    "        \n",
    "        #Limit data frame to specific columns needed\n",
    "        col_list = ['State/Territory', \n",
    "                    'Total Cases', 'Cases in Last 7 Days',\n",
    "                    'Case Rate per 100000', 'Total Deaths']\n",
    "\n",
    "        df = pandas.read_csv(\"https://raw.githubusercontent.com/camckenzie/COVID-19-Interactive-Map/main/covid19_cases.csv\", skiprows=3, usecols=col_list)\n",
    "        \n",
    "        dfdict = df.to_dict()\n",
    "        keys = list(dfdict.keys())#col_list\n",
    "        values = df.T.to_dict('list')#State: col_list values\n",
    "            \n",
    "\n",
    "        states = source.data[' State/Territory '] #Create a list of states to parse through\n",
    "        for state in values.keys():\n",
    "            \n",
    "            #Setting up the bar graph\n",
    "            case_bar = figure(x_range=keys, title=state, toolbar_location=None, tools=\"\", plot_width=800)\n",
    "            case_bar.vbar(x=keys, top=values[state], width=0.9)\n",
    "            case_bar.xgrid.grid_line_color = None\n",
    "            case_bar.y_range.start = 0\n",
    "            case_bar.yaxis.formatter = BasicTickFormatter(use_scientific=False)\n",
    "\n",
    "            #Setting up the annoations\n",
    "\n",
    "            total_cases_label = Label(x=450, y=480, x_units='screen', y_units='screen',\n",
    "                             text=f'Total Cases: {values[state][0]}', render_mode='css',\n",
    "                             border_line_alpha=1.0,\n",
    "                             background_fill_color='white', background_fill_alpha=1.0)\n",
    "            last_seven_label = Label(x=450, y=460, x_units='screen', y_units='screen',\n",
    "                             text=f'Cases in Last 7 Days: {values[state][1]}', render_mode='css',\n",
    "                             border_line_alpha=1.0,\n",
    "                             background_fill_color='white', background_fill_alpha=1.0)\n",
    "            rate_label = Label(x=450, y=440, x_units='screen', y_units='screen',\n",
    "                             text=f'Case Rate per 100000: {values[state][2]}', render_mode='css',\n",
    "                             border_line_alpha=1.0,\n",
    "                             background_fill_color='white', background_fill_alpha=1.0)\n",
    "            deaths_label = Label(x=450, y=420, x_units='screen', y_units='screen',\n",
    "                             text=f'Total Deaths: {values[state][3]}', render_mode='css',\n",
    "                             border_line_alpha=1.0,\n",
    "                             background_fill_color='white', background_fill_alpha=1.0)\n",
    "\n",
    "            case_bar.add_layout(total_cases_label)\n",
    "            case_bar.add_layout(last_seven_label)\n",
    "            case_bar.add_layout(rate_label)\n",
    "            case_bar.add_layout(deaths_label)\n",
    "\n",
    "            #The export\n",
    "            export_png(case_bar, filename=f'{state}_Cases.png')"
   ]
  },
  {
   "cell_type": "code",
   "execution_count": 10,
   "metadata": {},
   "outputs": [],
   "source": [
    "file_path = os.getcwd()"
   ]
  },
  {
   "cell_type": "code",
   "execution_count": 11,
   "metadata": {},
   "outputs": [],
   "source": [
    "vaccine_path = file_path + '\\\\docs\\\\Vaccinations_PNGs'"
   ]
  },
  {
   "cell_type": "code",
   "execution_count": 12,
   "metadata": {},
   "outputs": [],
   "source": [
    "export_path = file_path + '\\\\docs\\\\Cases_PNGs'"
   ]
  },
  {
   "cell_type": "code",
   "execution_count": 13,
   "metadata": {},
   "outputs": [],
   "source": [
    "test = PNGTables(vaccine_path, export_path)"
   ]
  },
  {
   "cell_type": "code",
   "execution_count": 14,
   "metadata": {},
   "outputs": [
    {
     "output_type": "error",
     "ename": "FileNotFoundError",
     "evalue": "[WinError 3] The system cannot find the path specified: 'c:\\\\College\\\\Spring 2021\\\\CS545\\\\COVID-19-Interactive-Map\\\\docs\\\\Vaccinations_PNGs//docs//Vaccinations_PNGs'",
     "traceback": [
      "\u001b[1;31m---------------------------------------------------------------------------\u001b[0m",
      "\u001b[1;31mFileNotFoundError\u001b[0m                         Traceback (most recent call last)",
      "\u001b[1;32m<ipython-input-14-edf96214abc0>\u001b[0m in \u001b[0;36m<module>\u001b[1;34m\u001b[0m\n\u001b[1;32m----> 1\u001b[1;33m \u001b[0mtest\u001b[0m\u001b[1;33m.\u001b[0m\u001b[0mexport_vaccine_graphs\u001b[0m\u001b[1;33m(\u001b[0m\u001b[1;33m)\u001b[0m\u001b[1;33m\u001b[0m\u001b[1;33m\u001b[0m\u001b[0m\n\u001b[0m",
      "\u001b[1;32m<ipython-input-9-e778285d9b5a>\u001b[0m in \u001b[0;36mexport_vaccine_graphs\u001b[1;34m(self)\u001b[0m\n\u001b[0;32m     17\u001b[0m         \u001b[1;34m\"\"\"Exports vaccine data in PNG files\"\"\"\u001b[0m\u001b[1;33m\u001b[0m\u001b[1;33m\u001b[0m\u001b[0m\n\u001b[0;32m     18\u001b[0m \u001b[1;33m\u001b[0m\u001b[0m\n\u001b[1;32m---> 19\u001b[1;33m         \u001b[0mos\u001b[0m\u001b[1;33m.\u001b[0m\u001b[0mchdir\u001b[0m\u001b[1;33m(\u001b[0m\u001b[0mself\u001b[0m\u001b[1;33m.\u001b[0m\u001b[0mvaccine_path\u001b[0m\u001b[1;33m)\u001b[0m\u001b[1;33m\u001b[0m\u001b[1;33m\u001b[0m\u001b[0m\n\u001b[0m\u001b[0;32m     20\u001b[0m \u001b[1;33m\u001b[0m\u001b[0m\n\u001b[0;32m     21\u001b[0m         col_list = ['State/Territory/Federal Entity',\n",
      "\u001b[1;31mFileNotFoundError\u001b[0m: [WinError 3] The system cannot find the path specified: 'c:\\\\College\\\\Spring 2021\\\\CS545\\\\COVID-19-Interactive-Map\\\\docs\\\\Vaccinations_PNGs//docs//Vaccinations_PNGs'"
     ]
    }
   ],
   "source": [
    "test.export_vaccine_graphs()"
   ]
  },
  {
   "cell_type": "code",
   "execution_count": null,
   "metadata": {},
   "outputs": [],
   "source": []
  }
 ],
 "metadata": {
  "kernelspec": {
   "name": "python385jvsc74a57bd07e3620d7daac22615dfdbbdca3d9cb9dd91a27e3b15d018c8a0f0e6cdb92fb2d",
   "display_name": "Python 3.8.5 64-bit ('base': conda)"
  },
  "language_info": {
   "codemirror_mode": {
    "name": "ipython",
    "version": 3
   },
   "file_extension": ".py",
   "mimetype": "text/x-python",
   "name": "python",
   "nbconvert_exporter": "python",
   "pygments_lexer": "ipython3",
   "version": "3.8.5"
  }
 },
 "nbformat": 4,
 "nbformat_minor": 4
}